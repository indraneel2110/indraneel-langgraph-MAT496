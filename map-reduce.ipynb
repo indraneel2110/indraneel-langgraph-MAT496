{
 "cells": [
  {
   "cell_type": "markdown",
   "id": "4cd4f701",
   "metadata": {},
   "source": [
    "[![Open in Colab](https://colab.research.google.com/assets/colab-badge.svg)](https://colab.research.google.com/github/langchain-ai/langchain-academy/blob/main/module-4/map-reduce.ipynb) [![Open in LangChain Academy](https://cdn.prod.website-files.com/65b8cd72835ceeacd4449a53/66e9eba12c7b7688aa3dbb5e_LCA-badge-green.svg)](https://academy.langchain.com/courses/take/intro-to-langgraph/lessons/58239947-lesson-3-map-reduce)"
   ]
  },
  {
   "cell_type": "markdown",
   "id": "36737349-c949-4d64-9aa3-3767cbd02ad1",
   "metadata": {},
   "source": [
    "# Map-reduce\n",
    "\n",
    "## Review\n",
    "\n",
    "We're building up to a multi-agent research assistant that ties together all of the modules from this course.\n",
    "\n",
    "To build this multi-agent assistant, we've been introducing a few LangGraph controllability topics.\n",
    "\n",
    "We just covered parallelization and sub-graphs.\n",
    "\n",
    "## Goals\n",
    "\n",
    "Now, we're going to cover [map reduce](https://langchain-ai.github.io/langgraph/how-tos/map-reduce/)."
   ]
  },
  {
   "cell_type": "code",
   "execution_count": 32,
   "id": "f24e95c8",
   "metadata": {},
   "outputs": [],
   "source": [
    "%%capture --no-stderr\n",
    "%pip install -U langchain_openai langgraph"
   ]
  },
  {
   "cell_type": "code",
   "execution_count": 33,
   "id": "ff57cbf7",
   "metadata": {},
   "outputs": [],
   "source": [
    "import os, getpass\n",
    "\n",
    "def _set_env(var: str):\n",
    "    if not os.environ.get(var):\n",
    "        os.environ[var] = getpass.getpass(f\"{var}: \")\n",
    "\n",
    "_set_env(\"OPENAI_API_KEY\")"
   ]
  },
  {
   "cell_type": "markdown",
   "id": "cbcd868a",
   "metadata": {},
   "source": [
    "We'll use [LangSmith](https://docs.smith.langchain.com/) for [tracing](https://docs.smith.langchain.com/concepts/tracing)."
   ]
  },
  {
   "cell_type": "code",
   "execution_count": 34,
   "id": "9fdc647f",
   "metadata": {},
   "outputs": [],
   "source": [
    "_set_env(\"LANGSMITH_API_KEY\")\n",
    "os.environ[\"LANGSMITH_TRACING\"] = \"true\"\n",
    "os.environ[\"LANGSMITH_PROJECT\"] = \"langchain-academy\""
   ]
  },
  {
   "cell_type": "markdown",
   "id": "2bbe9b9f-4375-4bca-8e32-7d57cb861469",
   "metadata": {},
   "source": [
    "## Problem\n",
    "\n",
    "Map-reduce operations are essential for efficient task decomposition and parallel processing. \n",
    "\n",
    "It has two phases:\n",
    "\n",
    "(1) `Map` - Break a task into smaller sub-tasks, processing each sub-task in parallel.\n",
    "\n",
    "(2) `Reduce` - Aggregate the results across all of the completed, parallelized sub-tasks.\n",
    "\n",
    "Let's design a system that will do two things:\n",
    "\n",
    "(1) `Map` - Create a set of jokes about a topic.\n",
    "\n",
    "(2) `Reduce` - Pick the best joke from the list.\n",
    "\n",
    "We'll use an LLM to do the job generation and selection."
   ]
  },
  {
   "cell_type": "code",
   "execution_count": 44,
   "id": "994cf903-1ed6-4ae2-b32a-7891a2808f81",
   "metadata": {},
   "outputs": [],
   "source": [
    "from langchain_openai import ChatOpenAI\n",
    "\n",
    "# Prompts we will use\n",
    "subjects_prompt = \"\"\"Generate a list of 5 sub-topics that are all related to this overall topic: {topic}.\"\"\"\n",
    "funfact_prompt = \"\"\"Generate a funfact about {subject}\"\"\"\n",
    "best_funfact_prompt = \"\"\"Below are a bunch of funfacts about {topic}. Select the best one! Return the ID of the best one, starting 0 as the ID for the first funfact. Funfacts: \\n\\n  {funfacts}\"\"\"\n",
    "\n",
    "# LLM\n",
    "model = ChatOpenAI(model=\"gpt-4o\", temperature=0) "
   ]
  },
  {
   "cell_type": "markdown",
   "id": "f3b883cc-3469-4e96-b1a4-deadf7bf3ce5",
   "metadata": {},
   "source": [
    "## State\n",
    "\n",
    "### Parallelizing joke generation\n",
    "\n",
    "First, let's define the entry point of the graph that will:\n",
    "\n",
    "* Take a user input topic\n",
    "* Produce a list of joke topics from it\n",
    "* Send each joke topic to our above joke generation node\n",
    "\n",
    "Our state has a `jokes` key, which will accumulate jokes from parallelized joke generation"
   ]
  },
  {
   "cell_type": "code",
   "execution_count": 45,
   "id": "099218ca-ee78-4291-95a1-87ee61382e3b",
   "metadata": {},
   "outputs": [],
   "source": [
    "import operator\n",
    "from typing import Annotated\n",
    "from typing_extensions import TypedDict\n",
    "from pydantic import BaseModel\n",
    "\n",
    "class Subjects(BaseModel):\n",
    "    subjects: list[str]\n",
    "\n",
    "class BestFunfact(BaseModel):\n",
    "    id: int\n",
    "    \n",
    "class OverallState(TypedDict):\n",
    "    topic: str\n",
    "    subjects: list\n",
    "    funfacts: Annotated[list, operator.add]\n",
    "    best_selected_funfact: str"
   ]
  },
  {
   "cell_type": "markdown",
   "id": "c7176d1c-4a88-4b0f-a960-ee04a45279bd",
   "metadata": {},
   "source": [
    "Generate subjects for jokes."
   ]
  },
  {
   "cell_type": "code",
   "execution_count": 46,
   "id": "45010efd-ad31-4daa-b77e-aaec79ef0309",
   "metadata": {},
   "outputs": [],
   "source": [
    "def generate_topics(state: OverallState):\n",
    "    prompt = subjects_prompt.format(topic=state[\"topic\"])\n",
    "    response = model.with_structured_output(Subjects).invoke(prompt)\n",
    "    return {\"subjects\": response.subjects}"
   ]
  },
  {
   "cell_type": "markdown",
   "id": "e5296bb0-c163-4e5c-8181-1e305b37442a",
   "metadata": {},
   "source": [
    "Here is the magic: we use the [Send](https://langchain-ai.github.io/langgraph/concepts/low_level/#send) to create a joke for each subject.\n",
    "\n",
    "This is very useful! It can automatically parallelize joke generation for any number of subjects.\n",
    "\n",
    "* `generate_joke`: the name of the node in the graph\n",
    "* `{\"subject\": s`}: the state to send\n",
    "\n",
    "`Send` allow you to pass any state that you want to `generate_joke`! It does not have to align with `OverallState`.\n",
    "\n",
    "In this case, `generate_joke` is using its own internal state, and we can populate this via `Send`."
   ]
  },
  {
   "cell_type": "code",
   "execution_count": 47,
   "id": "bc83e575-11f6-41a9-990a-adb571bcda06",
   "metadata": {},
   "outputs": [],
   "source": [
    "from langgraph.types import Send\n",
    "def continue_to_funfacts(state: OverallState):\n",
    "    return [Send(\"generate_funfact\", {\"subject\": s}) for s in state[\"subjects\"]]"
   ]
  },
  {
   "cell_type": "markdown",
   "id": "9847192d-d358-411e-90c0-f06be0738717",
   "metadata": {},
   "source": [
    "### Joke generation (map)\n",
    "\n",
    "Now, we just define a node that will create our jokes, `generate_joke`!\n",
    "\n",
    "We write them back out to `jokes` in `OverallState`! \n",
    "\n",
    "This key has a reducer that will combine lists."
   ]
  },
  {
   "cell_type": "code",
   "execution_count": 48,
   "id": "bcddc567-73d3-4fb3-bfc5-1bea538f2aab",
   "metadata": {},
   "outputs": [],
   "source": [
    "class FunfactState(TypedDict):\n",
    "    subject: str\n",
    "\n",
    "class Funfact(BaseModel):\n",
    "    funfact: str\n",
    "\n",
    "def generate_funfact(state: FunfactState):\n",
    "    prompt = funfact_prompt.format(subject=state[\"subject\"])\n",
    "    response = model.with_structured_output(Funfact).invoke(prompt)\n",
    "    return {\"funfacts\": [response.funfact]}"
   ]
  },
  {
   "cell_type": "markdown",
   "id": "02960657-d174-4076-99a8-b3f9eea015f4",
   "metadata": {},
   "source": [
    "### Best joke selection (reduce)\n",
    "\n",
    "Now, we add logic to pick the best joke."
   ]
  },
  {
   "cell_type": "code",
   "execution_count": 49,
   "id": "8d672870-75e3-4307-bda0-c41a86cbbaff",
   "metadata": {},
   "outputs": [],
   "source": [
    "def best_funfact(state: OverallState):\n",
    "    funfacts = \"\\n\\n\".join(state[\"funfacts\"])\n",
    "    prompt = best_funfact_prompt.format(topic=state[\"topic\"], funfacts=funfacts)\n",
    "    response = model.with_structured_output(BestFunfact).invoke(prompt)\n",
    "    return {\"best_selected_funfact\": state[\"funfacts\"][response.id]}"
   ]
  },
  {
   "cell_type": "markdown",
   "id": "837cd12e-5bff-426e-97f4-c774df998cfb",
   "metadata": {},
   "source": [
    "## Compile"
   ]
  },
  {
   "cell_type": "code",
   "execution_count": 50,
   "id": "2ae6be4b-144e-483c-88ad-ce86d6477a0d",
   "metadata": {},
   "outputs": [
    {
     "data": {
      "image/png": "[encoded data removed]",
      "text/plain": [
       "<IPython.core.display.Image object>"
      ]
     },
     "execution_count": 50,
     "metadata": {},
     "output_type": "execute_result"
    }
   ],
   "source": [
    "from IPython.display import Image\n",
    "from langgraph.graph import END, StateGraph, START\n",
    "\n",
    "# Construct the graph: here we put everything together to construct our graph\n",
    "graph = StateGraph(OverallState)\n",
    "graph.add_node(\"generate_topics\", generate_topics)\n",
    "graph.add_node(\"generate_funfact\", generate_funfact)\n",
    "graph.add_node(\"best_funfact\", best_funfact)\n",
    "graph.add_edge(START, \"generate_topics\")\n",
    "graph.add_conditional_edges(\"generate_topics\", continue_to_funfacts, [\"generate_funfact\"])\n",
    "graph.add_edge(\"generate_funfact\", \"best_funfact\")\n",
    "graph.add_edge(\"best_funfact\", END)\n",
    "\n",
    "# Compile the graph\n",
    "app = graph.compile()\n",
    "Image(app.get_graph().draw_mermaid_png())"
   ]
  },
  {
   "cell_type": "code",
   "execution_count": 51,
   "id": "e21dc7c9-0add-4125-be76-af701adb874a",
   "metadata": {},
   "outputs": [
    {
     "name": "stdout",
     "output_type": "stream",
     "text": [
      "{'generate_topics': {'subjects': ['The Evolution of Superhero Costumes: From Capes to High-Tech Suits', 'The Psychology Behind Superhero Personas: Alter Egos and Identity', 'Superheroes in Different Cultures: Global Interpretations and Myths', 'The Role of Superheroes in Modern Cinema: Box Office Hits and Cultural Impact', 'The Science of Superpowers: Real-World Physics and Biology Behind Fictional Abilities']}}\n",
      "{'generate_funfact': {'funfacts': ['### Fun Fact: The Superhero Phenomenon\\n\\n**Did you know?**\\n\\nThe superhero genre has become a cultural juggernaut in modern cinema, with its roots tracing back to the early 20th century. However, it wasn\\'t until the 21st century that superheroes truly soared to unprecedented heights at the box office and in cultural influence.\\n\\n**Box Office Titans:**\\n- **Marvel Cinematic Universe (MCU):** As of 2023, the MCU has grossed over $28 billion worldwide, making it the highest-grossing film franchise in history. This cinematic universe began with \"Iron Man\" in 2008, which was a gamble that paid off spectacularly.\\n- **DC Extended Universe (DCEU):** While not as financially dominant as the MCU, the DCEU has still made a significant impact with films like \"Wonder Woman\" and \"Aquaman,\" each grossing over $1 billion globally.\\n\\n**Cultural Impact:**\\n- **Diversity and Representation:** Superhero films have become a platform for showcasing diversity. \"Black Panther\" (2018) was a groundbreaking film that celebrated African culture and became a cultural milestone, grossing over $1.3 billion worldwide.\\n- **Social Commentary:** Many superhero films tackle pressing social issues, from \"X-Men\" addressing themes of discrimination to \"Captain America: The Winter Soldier\" exploring government surveillance.\\n\\n**Fun Fact:**\\n- **Superhero Day:** The cultural impact of superheroes is so profound that April 28th is celebrated as National Superhero Day in the United States, a day dedicated to honoring both fictional heroes and real-life heroes in our communities.\\n\\nSuperheroes have transcended their comic book origins to become symbols of hope, justice, and resilience, resonating with audiences across the globe and leaving an indelible mark on modern cinema and culture.']}}\n",
      "{'generate_funfact': {'funfacts': ['### Fun Fact: The Duality of Superhero Personas\\n\\n**Did you know?** The concept of alter egos in superhero stories is deeply rooted in psychological theories of identity and self-perception. This duality often mirrors the human experience of balancing different roles and identities in everyday life.\\n\\n#### The Psychology Behind It:\\n1. **Identity Exploration:**\\n   - Superheroes often use alter egos to explore different facets of their identity, much like individuals do in real life when they try on different roles (e.g., student, friend, professional).\\n\\n2. **Cognitive Dissonance:**\\n   - The tension between a superhero\\'s public persona and their private self can create cognitive dissonance, a psychological phenomenon where conflicting beliefs or behaviors cause discomfort. This mirrors the internal conflicts people face when their actions don\\'t align with their self-image.\\n\\n3. **Social Masking:**\\n   - Alter egos allow superheroes to \"mask\" their true selves, akin to how people sometimes hide their true feelings or thoughts to fit into social norms or expectations.\\n\\n4. **Empowerment and Control:**\\n   - Having an alter ego can provide a sense of empowerment and control over one\\'s life, offering a safe space to express traits or desires that might be suppressed in their \"normal\" identity.\\n\\n5. **Escapism and Fantasy:**\\n   - For both superheroes and their fans, alter egos offer an escape from reality, allowing them to imagine a world where they can overcome limitations and achieve extraordinary feats.\\n\\n#### Real-Life Parallels:\\n- **Clark Kent/Superman:** Represents the struggle between ordinary life and extraordinary potential.\\n- **Bruce Wayne/Batman:** Highlights the duality of light and darkness within a person.\\n- **Peter Parker/Spider-Man:** Embodies the challenges of balancing personal responsibilities with greater societal duties.\\n\\nIn essence, superhero alter egos are not just a narrative device but a reflection of the complex, multifaceted nature of human identity. They remind us that beneath every mask, there\\'s a story of self-discovery and transformation.']}}\n",
      "{'generate_funfact': {'funfacts': ['### Fun Fact: The Science of Superpowers\\n\\n**Did you know?** \\n\\nWhile superpowers like flying, invisibility, or super strength are often seen as pure fiction, some aspects of these abilities have intriguing parallels in the natural world and physics!\\n\\n#### 1. **Flight and Levitation**\\n- **Real-World Parallel:** The concept of flight isn\\'t just for birds or planes. The **bumblebee** defies conventional aerodynamic theories with its ability to fly, thanks to its unique wing flapping pattern.\\n- **Physics Insight:** Magnetic levitation, or \"maglev,\" uses magnetic fields to lift and propel objects, inspiring futuristic transportation systems.\\n\\n#### 2. **Invisibility**\\n- **Real-World Parallel:** The **octopus** and **cuttlefish** can change their skin color and texture to blend seamlessly with their surroundings, a natural form of camouflage.\\n- **Physics Insight:** Scientists are developing \"**metamaterials**\" that can bend light around an object, making it appear invisible to the naked eye.\\n\\n#### 3. **Super Strength**\\n- **Real-World Parallel:** The **dung beetle** can pull over 1,000 times its body weight, showcasing incredible strength relative to its size.\\n- **Biological Insight:** Human muscles, when optimized through training and genetic factors, can exhibit extraordinary strength, as seen in some elite athletes.\\n\\n#### 4. **Regeneration**\\n- **Real-World Parallel:** The **axolotl**, a type of salamander, can regenerate entire limbs, spinal cords, and even parts of its heart and brain.\\n- **Biological Insight:** Research into stem cells and regenerative medicine aims to unlock similar healing capabilities in humans.\\n\\n#### 5. **Telekinesis**\\n- **Real-World Parallel:** While true telekinesis remains fictional, **brain-computer interfaces (BCIs)** allow individuals to control devices with their thoughts, bridging the gap between mind and machine.\\n- **Physics Insight:** Quantum mechanics explores phenomena like \"**quantum entanglement**,\" where particles can influence each other instantaneously over vast distances, hinting at the potential for mind-bending technologies.\\n\\nThese real-world phenomena and scientific advancements show that while superpowers may be fictional, the science behind them is often rooted in reality, sparking curiosity and innovation in the quest to make the impossible possible!']}}\n",
      "{'generate_funfact': {'funfacts': ['### Fun Fact: The Global Tapestry of Superheroes 🌍🦸\\u200d♂️\\n\\nWhile superheroes like Superman and Spider-Man are iconic in Western culture, many countries have their own unique interpretations of superheroes, often rooted in ancient myths and folklore. Here\\'s a fascinating glimpse into the world of global superheroes:\\n\\n**1. ** **India\\'s Hanuman:**\\n   - **Origin:** Derived from the epic \"Ramayana,\" Hanuman is a divine monkey god known for his immense strength, loyalty, and ability to fly.\\n   - **Powers:** Superhuman strength, shape-shifting, and the power to leap across oceans.\\n   - **Cultural Impact:** Hanuman is revered as a symbol of devotion and courage, often depicted in comics and animated series in India.\\n\\n**2. ** **Japan\\'s Kamen Rider:**\\n   - **Origin:** A popular TV series that began in the 1970s, featuring a motorcycle-riding hero who battles evil organizations.\\n   - **Powers:** Enhanced strength, agility, and the ability to transform into a powerful armored form.\\n   - **Cultural Impact:** Kamen Rider has become a cultural icon, inspiring numerous adaptations and spin-offs.\\n\\n**3. ** **Nigeria\\'s Sango:**\\n   - **Origin:** Based on the Yoruba deity of thunder and lightning, Sango is a powerful figure in West African mythology.\\n   - **Powers:** Control over thunder and lightning, immense strength, and the ability to summon storms.\\n   - **Cultural Impact:** Sango is celebrated in festivals and has inspired modern superhero stories in African literature.\\n\\n**4. ** **Mexico\\'s El Santo:**\\n   - **Origin:** A legendary luchador (wrestler) who became a cultural hero in the mid-20th century.\\n   - **Powers:** Exceptional wrestling skills, agility, and a knack for solving mysteries.\\n   - **Cultural Impact:** El Santo starred in numerous films and comics, becoming a symbol of justice and heroism in Mexican pop culture.\\n\\n**5. ** **China\\'s Nezha:**\\n   - **Origin:** A mythological figure from Chinese folklore, often depicted as a young warrior with magical abilities.\\n   - **Powers:** Mastery of fire, wind, and water, along with the ability to fly and wield powerful weapons.\\n   - **Cultural Impact:** Nezha\\'s tales have been adapted into films, TV shows, and animations, capturing the imagination of generations.\\n\\nThese superheroes, though diverse in origin and abilities, share a common thread of embodying the values and aspirations of their respective cultures, showcasing the universal appeal of heroism and adventure.']}}\n",
      "{'generate_funfact': {'funfacts': ['### Fun Fact: The Evolution of Superhero Costumes\\n\\n**From Capes to High-Tech Suits**\\n\\nDid you know that the evolution of superhero costumes reflects not just changes in fashion, but also advancements in technology and shifts in cultural values? Here\\'s a fun journey through time:\\n\\n1. **Golden Age Simplicity (1930s-1940s):**\\n   - **Capes and Tights:** Early superheroes like Superman and Batman donned simple, colorful costumes with capes and tights. These designs were inspired by circus performers and wrestlers, emphasizing agility and strength.\\n\\n2. **Silver Age Symbolism (1950s-1960s):**\\n   - **Iconic Emblems:** Superheroes like Spider-Man and the Flash introduced bold emblems and logos on their chests, making them instantly recognizable and symbolizing their unique powers.\\n\\n3. **Bronze Age Realism (1970s-1980s):**\\n   - **Practicality and Grit:** Costumes began to reflect a more realistic and gritty world. Heroes like Wolverine and the Punisher wore outfits that were more tactical and less flashy, often incorporating leather and military-style gear.\\n\\n4. **Modern Age Innovation (1990s-Present):**\\n   - **High-Tech Suits:** With the rise of technology, superheroes like Iron Man and Black Panther sport advanced suits equipped with gadgets, armor, and even AI. These suits often reflect the latest in real-world tech innovations.\\n\\n5. **Cultural Representation:**\\n   - **Diverse Designs:** As society becomes more inclusive, superhero costumes have evolved to reflect diverse cultures and identities. Characters like Kamala Khan (Ms. Marvel) and Miles Morales (Spider-Man) showcase costumes that honor their cultural heritage.\\n\\n6. **Environmental Awareness:**\\n   - **Eco-Friendly Materials:** Some modern superheroes are depicted wearing costumes made from sustainable materials, reflecting a growing awareness of environmental issues.\\n\\n### Bonus Tidbit:\\n- **Capes in the Real World:** While capes are iconic in superhero lore, they are often impractical in real life. This was humorously highlighted in the animated film \"The Incredibles,\" where Edna Mode famously declared, \"No capes!\" due to their potential hazards.\\n\\nThe evolution of superhero costumes is a fascinating mirror of our changing world, blending fantasy with reality and tradition with innovation. 🌟🦸\\u200d♂️🦸\\u200d♀️']}}\n",
      "{'best_funfact': {'best_selected_funfact': '### Fun Fact: The Evolution of Superhero Costumes\\n\\n**From Capes to High-Tech Suits**\\n\\nDid you know that the evolution of superhero costumes reflects not just changes in fashion, but also advancements in technology and shifts in cultural values? Here\\'s a fun journey through time:\\n\\n1. **Golden Age Simplicity (1930s-1940s):**\\n   - **Capes and Tights:** Early superheroes like Superman and Batman donned simple, colorful costumes with capes and tights. These designs were inspired by circus performers and wrestlers, emphasizing agility and strength.\\n\\n2. **Silver Age Symbolism (1950s-1960s):**\\n   - **Iconic Emblems:** Superheroes like Spider-Man and the Flash introduced bold emblems and logos on their chests, making them instantly recognizable and symbolizing their unique powers.\\n\\n3. **Bronze Age Realism (1970s-1980s):**\\n   - **Practicality and Grit:** Costumes began to reflect a more realistic and gritty world. Heroes like Wolverine and the Punisher wore outfits that were more tactical and less flashy, often incorporating leather and military-style gear.\\n\\n4. **Modern Age Innovation (1990s-Present):**\\n   - **High-Tech Suits:** With the rise of technology, superheroes like Iron Man and Black Panther sport advanced suits equipped with gadgets, armor, and even AI. These suits often reflect the latest in real-world tech innovations.\\n\\n5. **Cultural Representation:**\\n   - **Diverse Designs:** As society becomes more inclusive, superhero costumes have evolved to reflect diverse cultures and identities. Characters like Kamala Khan (Ms. Marvel) and Miles Morales (Spider-Man) showcase costumes that honor their cultural heritage.\\n\\n6. **Environmental Awareness:**\\n   - **Eco-Friendly Materials:** Some modern superheroes are depicted wearing costumes made from sustainable materials, reflecting a growing awareness of environmental issues.\\n\\n### Bonus Tidbit:\\n- **Capes in the Real World:** While capes are iconic in superhero lore, they are often impractical in real life. This was humorously highlighted in the animated film \"The Incredibles,\" where Edna Mode famously declared, \"No capes!\" due to their potential hazards.\\n\\nThe evolution of superhero costumes is a fascinating mirror of our changing world, blending fantasy with reality and tradition with innovation. 🌟🦸\\u200d♂️🦸\\u200d♀️'}}\n"
     ]
    }
   ],
   "source": [
    "# Call the graph: here we call it to generate a list of jokes\n",
    "for s in app.stream({\"topic\": \"Superheroes\"}):\n",
    "    print(s)"
   ]
  },
  {
   "attachments": {},
   "cell_type": "markdown",
   "id": "2a96517e-77ab-46e2-95e2-79168c044e9c",
   "metadata": {},
   "source": [
    "## Studio\n",
    "\n",
    "**⚠️ DISCLAIMER**\n",
    "\n",
    "Since the filming of these videos, we've updated Studio so that it can be run locally and opened in your browser. This is now the preferred way to run Studio (rather than using the Desktop App as shown in the video). See documentation [here](https://langchain-ai.github.io/langgraph/concepts/langgraph_studio/#local-development-server) on the local development server and [here](https://langchain-ai.github.io/langgraph/how-tos/local-studio/#run-the-development-server). To start the local development server, run the following command in your terminal in the `/studio` directory in this module:\n",
    "\n",
    "```\n",
    "langgraph dev\n",
    "```\n",
    "\n",
    "You should see the following output:\n",
    "```\n",
    "- 🚀 API: http://127.0.0.1:2024\n",
    "- 🎨 Studio UI: https://smith.langchain.com/studio/?baseUrl=http://127.0.0.1:2024\n",
    "- 📚 API Docs: http://127.0.0.1:2024/docs\n",
    "```\n",
    "\n",
    "Open your browser and navigate to the Studio UI: `https://smith.langchain.com/studio/?baseUrl=http://127.0.0.1:2024`.\n",
    "\n",
    "Let's load our the above graph in the Studio UI, which uses `module-4/studio/map_reduce.py` set in `module-4/studio/langgraph.json`."
   ]
  },
  {
   "cell_type": "code",
   "execution_count": null,
   "id": "741a5e45-9a4c-43b4-8393-9298b3dcda53",
   "metadata": {},
   "outputs": [],
   "source": []
  }
 ],
 "metadata": {
  "kernelspec": {
   "display_name": "lc-academy-env",
   "language": "python",
   "name": "python3"
  },
  "language_info": {
   "codemirror_mode": {
    "name": "ipython",
    "version": 3
   },
   "file_extension": ".py",
   "mimetype": "text/x-python",
   "name": "python",
   "nbconvert_exporter": "python",
   "pygments_lexer": "ipython3",
   "version": "3.11.0"
  }
 },
 "nbformat": 4,
 "nbformat_minor": 5
}
